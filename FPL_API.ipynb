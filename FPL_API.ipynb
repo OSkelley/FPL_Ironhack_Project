{
 "cells": [
  {
   "cell_type": "code",
   "execution_count": 5,
   "metadata": {},
   "outputs": [],
   "source": [
    "import requests, json\n",
    "import pandas as pd"
   ]
  },
  {
   "cell_type": "code",
   "execution_count": 4,
   "metadata": {},
   "outputs": [],
   "source": [
    "url = 'https://fantasy.premierleague.com/api/'\n",
    "manager_id = 4604516"
   ]
  },
  {
   "cell_type": "code",
   "execution_count": 22,
   "metadata": {},
   "outputs": [
    {
     "data": {
      "text/plain": [
       "<Response [200]>"
      ]
     },
     "execution_count": 22,
     "metadata": {},
     "output_type": "execute_result"
    }
   ],
   "source": [
    "response = requests.get(f\"https://fantasy.premierleague.com/api/entry/{manager_id}/history/\")\n",
    "response"
   ]
  },
  {
   "cell_type": "code",
   "execution_count": 23,
   "metadata": {},
   "outputs": [
    {
     "data": {
      "text/plain": [
       "{'current': [{'event': 1,\n",
       "   'points': 93,\n",
       "   'total_points': 93,\n",
       "   'rank': 26666,\n",
       "   'rank_sort': 31476,\n",
       "   'overall_rank': 26666,\n",
       "   'bank': 0,\n",
       "   'value': 1000,\n",
       "   'event_transfers': 0,\n",
       "   'event_transfers_cost': 0,\n",
       "   'points_on_bench': 17},\n",
       "  {'event': 2,\n",
       "   'points': 50,\n",
       "   'total_points': 143,\n",
       "   'rank': 2723474,\n",
       "   'rank_sort': 2776457,\n",
       "   'overall_rank': 176943,\n",
       "   'bank': 0,\n",
       "   'value': 1003,\n",
       "   'event_transfers': 0,\n",
       "   'event_transfers_cost': 0,\n",
       "   'points_on_bench': 12},\n",
       "  {'event': 3,\n",
       "   'points': 58,\n",
       "   'total_points': 201,\n",
       "   'rank': 1023817,\n",
       "   'rank_sort': 1044879,\n",
       "   'overall_rank': 64002,\n",
       "   'bank': 15,\n",
       "   'value': 1009,\n",
       "   'event_transfers': 2,\n",
       "   'event_transfers_cost': 0,\n",
       "   'points_on_bench': 7},\n",
       "  {'event': 4,\n",
       "   'points': 85,\n",
       "   'total_points': 286,\n",
       "   'rank': 1263083,\n",
       "   'rank_sort': 1298672,\n",
       "   'overall_rank': 26930,\n",
       "   'bank': 3,\n",
       "   'value': 1014,\n",
       "   'event_transfers': 1,\n",
       "   'event_transfers_cost': 0,\n",
       "   'points_on_bench': 3},\n",
       "  {'event': 5,\n",
       "   'points': 39,\n",
       "   'total_points': 325,\n",
       "   'rank': 7192520,\n",
       "   'rank_sort': 7261594,\n",
       "   'overall_rank': 94307,\n",
       "   'bank': 9,\n",
       "   'value': 1016,\n",
       "   'event_transfers': 1,\n",
       "   'event_transfers_cost': 0,\n",
       "   'points_on_bench': 6},\n",
       "  {'event': 6,\n",
       "   'points': 57,\n",
       "   'total_points': 378,\n",
       "   'rank': 7822377,\n",
       "   'rank_sort': 7837105,\n",
       "   'overall_rank': 813585,\n",
       "   'bank': 3,\n",
       "   'value': 1015,\n",
       "   'event_transfers': 2,\n",
       "   'event_transfers_cost': 4,\n",
       "   'points_on_bench': 17},\n",
       "  {'event': 7,\n",
       "   'points': 54,\n",
       "   'total_points': 432,\n",
       "   'rank': 3287044,\n",
       "   'rank_sort': 3327340,\n",
       "   'overall_rank': 766949,\n",
       "   'bank': 5,\n",
       "   'value': 1015,\n",
       "   'event_transfers': 0,\n",
       "   'event_transfers_cost': 0,\n",
       "   'points_on_bench': 12},\n",
       "  {'event': 8,\n",
       "   'points': 42,\n",
       "   'total_points': 474,\n",
       "   'rank': 5653858,\n",
       "   'rank_sort': 5699766,\n",
       "   'overall_rank': 984543,\n",
       "   'bank': 10,\n",
       "   'value': 1018,\n",
       "   'event_transfers': 1,\n",
       "   'event_transfers_cost': 0,\n",
       "   'points_on_bench': 7},\n",
       "  {'event': 9,\n",
       "   'points': 104,\n",
       "   'total_points': 578,\n",
       "   'rank': 88000,\n",
       "   'rank_sort': 94790,\n",
       "   'overall_rank': 275457,\n",
       "   'bank': 10,\n",
       "   'value': 1022,\n",
       "   'event_transfers': 0,\n",
       "   'event_transfers_cost': 0,\n",
       "   'points_on_bench': 4},\n",
       "  {'event': 10,\n",
       "   'points': 77,\n",
       "   'total_points': 655,\n",
       "   'rank': 2072069,\n",
       "   'rank_sort': 2091471,\n",
       "   'overall_rank': 168833,\n",
       "   'bank': 8,\n",
       "   'value': 1022,\n",
       "   'event_transfers': 2,\n",
       "   'event_transfers_cost': 0,\n",
       "   'points_on_bench': 5},\n",
       "  {'event': 11,\n",
       "   'points': 15,\n",
       "   'total_points': 670,\n",
       "   'rank': 10045344,\n",
       "   'rank_sort': 10054703,\n",
       "   'overall_rank': 406271,\n",
       "   'bank': 3,\n",
       "   'value': 1027,\n",
       "   'event_transfers': 1,\n",
       "   'event_transfers_cost': 0,\n",
       "   'points_on_bench': 15},\n",
       "  {'event': 12,\n",
       "   'points': 81,\n",
       "   'total_points': 747,\n",
       "   'rank': 1185797,\n",
       "   'rank_sort': 1206105,\n",
       "   'overall_rank': 351587,\n",
       "   'bank': 2,\n",
       "   'value': 1032,\n",
       "   'event_transfers': 2,\n",
       "   'event_transfers_cost': 4,\n",
       "   'points_on_bench': 1}],\n",
       " 'past': [{'season_name': '2020/21', 'total_points': 1645, 'rank': 5685646},\n",
       "  {'season_name': '2022/23', 'total_points': 2405, 'rank': 622876}],\n",
       " 'chips': [{'name': 'wildcard',\n",
       "   'time': '2023-09-28T14:14:25.114039Z',\n",
       "   'event': 7}]}"
      ]
     },
     "execution_count": 23,
     "metadata": {},
     "output_type": "execute_result"
    }
   ],
   "source": [
    "info = response.json()\n",
    "info"
   ]
  },
  {
   "cell_type": "code",
   "execution_count": null,
   "metadata": {},
   "outputs": [],
   "source": [
    "info"
   ]
  }
 ],
 "metadata": {
  "kernelspec": {
   "display_name": "base",
   "language": "python",
   "name": "python3"
  },
  "language_info": {
   "codemirror_mode": {
    "name": "ipython",
    "version": 3
   },
   "file_extension": ".py",
   "mimetype": "text/x-python",
   "name": "python",
   "nbconvert_exporter": "python",
   "pygments_lexer": "ipython3",
   "version": "3.11.4"
  }
 },
 "nbformat": 4,
 "nbformat_minor": 2
}
