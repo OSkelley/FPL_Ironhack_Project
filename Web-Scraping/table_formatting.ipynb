{
 "cells": [
  {
   "cell_type": "code",
   "execution_count": 1,
   "metadata": {},
   "outputs": [],
   "source": [
    "import pandas as pd"
   ]
  },
  {
   "cell_type": "code",
   "execution_count": 40,
   "metadata": {},
   "outputs": [],
   "source": [
    "gca = pd.read_csv('2017_stats/234_gca.csv')\n",
    "passing = pd.read_csv('2017_stats/234_passing.csv')\n",
    "summary = pd.read_csv('2017_stats/234_summary.csv')\n",
    "player_data = pd.read_csv('2017_merge.csv')"
   ]
  },
  {
   "cell_type": "code",
   "execution_count": 41,
   "metadata": {},
   "outputs": [
    {
     "data": {
      "text/html": [
       "<div>\n",
       "<style scoped>\n",
       "    .dataframe tbody tr th:only-of-type {\n",
       "        vertical-align: middle;\n",
       "    }\n",
       "\n",
       "    .dataframe tbody tr th {\n",
       "        vertical-align: top;\n",
       "    }\n",
       "\n",
       "    .dataframe thead th {\n",
       "        text-align: right;\n",
       "    }\n",
       "</style>\n",
       "<table border=\"1\" class=\"dataframe\">\n",
       "  <thead>\n",
       "    <tr style=\"text-align: right;\">\n",
       "      <th></th>\n",
       "      <th>Unnamed: 0</th>\n",
       "      <th>url_id</th>\n",
       "      <th>tag</th>\n",
       "      <th>fbref_name</th>\n",
       "      <th>key</th>\n",
       "      <th>first_name</th>\n",
       "      <th>second_name</th>\n",
       "      <th>id</th>\n",
       "      <th>full_name</th>\n",
       "      <th>keep</th>\n",
       "    </tr>\n",
       "  </thead>\n",
       "  <tbody>\n",
       "    <tr>\n",
       "      <th>0</th>\n",
       "      <td>310</td>\n",
       "      <td>e342ad68</td>\n",
       "      <td>Mohamed-Salah</td>\n",
       "      <td>Mohamed Salah Ghaly</td>\n",
       "      <td>0</td>\n",
       "      <td>Mohamed</td>\n",
       "      <td>Salah</td>\n",
       "      <td>234</td>\n",
       "      <td>Mohamed Salah</td>\n",
       "      <td>True</td>\n",
       "    </tr>\n",
       "    <tr>\n",
       "      <th>1</th>\n",
       "      <td>981</td>\n",
       "      <td>e46012d4</td>\n",
       "      <td>Kevin-De-Bruyne</td>\n",
       "      <td>Kevin De Bruyne</td>\n",
       "      <td>0</td>\n",
       "      <td>Kevin</td>\n",
       "      <td>De Bruyne</td>\n",
       "      <td>252</td>\n",
       "      <td>Kevin De Bruyne</td>\n",
       "      <td>True</td>\n",
       "    </tr>\n",
       "    <tr>\n",
       "      <th>2</th>\n",
       "      <td>2108</td>\n",
       "      <td>5f09991f</td>\n",
       "      <td>Patrick-van-Aanholt</td>\n",
       "      <td>Patrick John Miguel van Aanholt</td>\n",
       "      <td>0</td>\n",
       "      <td>Patrick</td>\n",
       "      <td>van Aanholt</td>\n",
       "      <td>124</td>\n",
       "      <td>Patrick van Aanholt</td>\n",
       "      <td>True</td>\n",
       "    </tr>\n",
       "    <tr>\n",
       "      <th>3</th>\n",
       "      <td>2989</td>\n",
       "      <td>c5942695</td>\n",
       "      <td>Rolando-Aarons</td>\n",
       "      <td>Rolando Aarons</td>\n",
       "      <td>0</td>\n",
       "      <td>Rolando</td>\n",
       "      <td>Aarons</td>\n",
       "      <td>467</td>\n",
       "      <td>Rolando Aarons</td>\n",
       "      <td>True</td>\n",
       "    </tr>\n",
       "    <tr>\n",
       "      <th>4</th>\n",
       "      <td>3731</td>\n",
       "      <td>f586779e</td>\n",
       "      <td>Tammy-Abraham</td>\n",
       "      <td>Tammy Abraham</td>\n",
       "      <td>0</td>\n",
       "      <td>Tammy</td>\n",
       "      <td>Abraham</td>\n",
       "      <td>374</td>\n",
       "      <td>Tammy Abraham</td>\n",
       "      <td>True</td>\n",
       "    </tr>\n",
       "    <tr>\n",
       "      <th>...</th>\n",
       "      <td>...</td>\n",
       "      <td>...</td>\n",
       "      <td>...</td>\n",
       "      <td>...</td>\n",
       "      <td>...</td>\n",
       "      <td>...</td>\n",
       "      <td>...</td>\n",
       "      <td>...</td>\n",
       "      <td>...</td>\n",
       "      <td>...</td>\n",
       "    </tr>\n",
       "    <tr>\n",
       "      <th>423</th>\n",
       "      <td>329044</td>\n",
       "      <td>be927d03</td>\n",
       "      <td>Ashley-Young</td>\n",
       "      <td>Ashley Simon Young</td>\n",
       "      <td>0</td>\n",
       "      <td>Ashley</td>\n",
       "      <td>Young</td>\n",
       "      <td>277</td>\n",
       "      <td>Ashley Young</td>\n",
       "      <td>True</td>\n",
       "    </tr>\n",
       "    <tr>\n",
       "      <th>424</th>\n",
       "      <td>329939</td>\n",
       "      <td>6813ac34</td>\n",
       "      <td>Pablo-Zabaleta</td>\n",
       "      <td>Pablo Javier Zabaleta Girod</td>\n",
       "      <td>0</td>\n",
       "      <td>Pablo</td>\n",
       "      <td>Zabaleta</td>\n",
       "      <td>447</td>\n",
       "      <td>Pablo Zabaleta</td>\n",
       "      <td>True</td>\n",
       "    </tr>\n",
       "    <tr>\n",
       "      <th>425</th>\n",
       "      <td>330139</td>\n",
       "      <td>b2bc3b1f</td>\n",
       "      <td>Wilfried-Zaha</td>\n",
       "      <td>Dazet Wilfried Armel Zaha</td>\n",
       "      <td>0</td>\n",
       "      <td>Wilfried</td>\n",
       "      <td>Zaha</td>\n",
       "      <td>126</td>\n",
       "      <td>Wilfried Zaha</td>\n",
       "      <td>True</td>\n",
       "    </tr>\n",
       "    <tr>\n",
       "      <th>426</th>\n",
       "      <td>330768</td>\n",
       "      <td>7fe90ccd</td>\n",
       "      <td>Davide-Zappacosta</td>\n",
       "      <td>Davide Zappacosta</td>\n",
       "      <td>0</td>\n",
       "      <td>Davide</td>\n",
       "      <td>Zappacosta</td>\n",
       "      <td>543</td>\n",
       "      <td>Davide Zappacosta</td>\n",
       "      <td>True</td>\n",
       "    </tr>\n",
       "    <tr>\n",
       "      <th>427</th>\n",
       "      <td>332996</td>\n",
       "      <td>ce4246f5</td>\n",
       "      <td>Kurt-Zouma</td>\n",
       "      <td>Kurt Happy Zouma</td>\n",
       "      <td>0</td>\n",
       "      <td>Kurt</td>\n",
       "      <td>Zouma</td>\n",
       "      <td>99</td>\n",
       "      <td>Kurt Zouma</td>\n",
       "      <td>True</td>\n",
       "    </tr>\n",
       "  </tbody>\n",
       "</table>\n",
       "<p>428 rows × 10 columns</p>\n",
       "</div>"
      ],
      "text/plain": [
       "     Unnamed: 0    url_id                  tag  \\\n",
       "0           310  e342ad68        Mohamed-Salah   \n",
       "1           981  e46012d4      Kevin-De-Bruyne   \n",
       "2          2108  5f09991f  Patrick-van-Aanholt   \n",
       "3          2989  c5942695       Rolando-Aarons   \n",
       "4          3731  f586779e        Tammy-Abraham   \n",
       "..          ...       ...                  ...   \n",
       "423      329044  be927d03         Ashley-Young   \n",
       "424      329939  6813ac34       Pablo-Zabaleta   \n",
       "425      330139  b2bc3b1f        Wilfried-Zaha   \n",
       "426      330768  7fe90ccd    Davide-Zappacosta   \n",
       "427      332996  ce4246f5           Kurt-Zouma   \n",
       "\n",
       "                          fbref_name  key first_name  second_name   id  \\\n",
       "0                Mohamed Salah Ghaly    0    Mohamed        Salah  234   \n",
       "1                    Kevin De Bruyne    0      Kevin    De Bruyne  252   \n",
       "2    Patrick John Miguel van Aanholt    0    Patrick  van Aanholt  124   \n",
       "3                     Rolando Aarons    0    Rolando       Aarons  467   \n",
       "4                      Tammy Abraham    0      Tammy      Abraham  374   \n",
       "..                               ...  ...        ...          ...  ...   \n",
       "423               Ashley Simon Young    0     Ashley        Young  277   \n",
       "424      Pablo Javier Zabaleta Girod    0      Pablo     Zabaleta  447   \n",
       "425        Dazet Wilfried Armel Zaha    0   Wilfried         Zaha  126   \n",
       "426                Davide Zappacosta    0     Davide   Zappacosta  543   \n",
       "427                 Kurt Happy Zouma    0       Kurt        Zouma   99   \n",
       "\n",
       "               full_name  keep  \n",
       "0          Mohamed Salah  True  \n",
       "1        Kevin De Bruyne  True  \n",
       "2    Patrick van Aanholt  True  \n",
       "3         Rolando Aarons  True  \n",
       "4          Tammy Abraham  True  \n",
       "..                   ...   ...  \n",
       "423         Ashley Young  True  \n",
       "424       Pablo Zabaleta  True  \n",
       "425        Wilfried Zaha  True  \n",
       "426    Davide Zappacosta  True  \n",
       "427           Kurt Zouma  True  \n",
       "\n",
       "[428 rows x 10 columns]"
      ]
     },
     "execution_count": 41,
     "metadata": {},
     "output_type": "execute_result"
    }
   ],
   "source": [
    "player_data"
   ]
  },
  {
   "cell_type": "code",
   "execution_count": 42,
   "metadata": {},
   "outputs": [
    {
     "data": {
      "text/plain": [
       "Index(['Unnamed: 0', 'Date', 'Day', 'Round', 'Venue', 'Result', 'Squad',\n",
       "       'Opponent', 'Start', 'Pos', 'Min', 'Gls', 'Ast', 'PK', 'PKatt', 'Sh',\n",
       "       'SoT', 'CrdY', 'CrdR', 'Touches', 'Tkl', 'Int', 'Blocks', 'xG', 'npxG',\n",
       "       'xAG', 'SCA', 'GCA', 'Cmp', 'Att', 'Cmp%', 'PrgP', 'Carries', 'PrgC',\n",
       "       'Att.1', 'Succ', 'Match Report'],\n",
       "      dtype='object')"
      ]
     },
     "execution_count": 42,
     "metadata": {},
     "output_type": "execute_result"
    }
   ],
   "source": [
    "summary.columns"
   ]
  },
  {
   "cell_type": "code",
   "execution_count": 43,
   "metadata": {},
   "outputs": [
    {
     "data": {
      "text/plain": [
       "Index(['Unnamed: 0', 'Date', 'Day', 'Round', 'Venue', 'Result', 'Squad',\n",
       "       'Opponent', 'Start', 'Pos', 'Min', 'Cmp', 'Att', 'Cmp%', 'TotDist',\n",
       "       'PrgDist', 'Cmp.1', 'Att.1', 'Cmp%.1', 'Cmp.2', 'Att.2', 'Cmp%.2',\n",
       "       'Cmp.3', 'Att.3', 'Cmp%.3', 'Ast', 'xAG', 'xA', 'KP', '1/3', 'PPA',\n",
       "       'CrsPA', 'PrgP', 'Match Report'],\n",
       "      dtype='object')"
      ]
     },
     "execution_count": 43,
     "metadata": {},
     "output_type": "execute_result"
    }
   ],
   "source": [
    "passing.columns"
   ]
  },
  {
   "cell_type": "code",
   "execution_count": 44,
   "metadata": {},
   "outputs": [
    {
     "data": {
      "text/plain": [
       "Index(['Unnamed: 0', 'Date', 'Day', 'Round', 'Venue', 'Result', 'Squad',\n",
       "       'Opponent', 'Start', 'Pos', 'Min', 'SCA', 'PassLive', 'PassDead', 'TO',\n",
       "       'Sh', 'Fld', 'Def', 'GCA', 'PassLive.1', 'PassDead.1', 'TO.1', 'Sh.1',\n",
       "       'Fld.1', 'Def.1', 'Match Report'],\n",
       "      dtype='object')"
      ]
     },
     "execution_count": 44,
     "metadata": {},
     "output_type": "execute_result"
    }
   ],
   "source": [
    "gca.columns"
   ]
  },
  {
   "cell_type": "code",
   "execution_count": 54,
   "metadata": {},
   "outputs": [],
   "source": [
    "passing_merge = passing.drop(columns= ['Unnamed: 0', 'Date', 'Day', 'Venue', 'Result', 'Squad', 'Opponent', 'Start', 'Pos', 'Min', 'Cmp', 'Att', 'Cmp%', 'Att.1', 'Ast', 'xAG', 'PrgP', 'Match Report'])\n",
    "gca_merge = gca.drop(columns= ['Unnamed: 0', 'Date', 'Day', 'Venue', 'Result', 'Squad', 'Opponent', 'Start', 'Pos', 'Min', 'SCA', 'Sh', 'GCA', 'Match Report'])\n",
    "summary_merge = summary.drop(columns= ['Unnamed: 0', 'Match Report'])"
   ]
  },
  {
   "cell_type": "code",
   "execution_count": 55,
   "metadata": {},
   "outputs": [
    {
     "name": "stdout",
     "output_type": "stream",
     "text": [
      "Index(['Round', 'PassLive', 'PassDead', 'TO', 'Fld', 'Def', 'PassLive.1',\n",
      "       'PassDead.1', 'TO.1', 'Sh.1', 'Fld.1', 'Def.1'],\n",
      "      dtype='object')\n",
      "Index(['Round', 'TotDist', 'PrgDist', 'Cmp.1', 'Cmp%.1', 'Cmp.2', 'Att.2',\n",
      "       'Cmp%.2', 'Cmp.3', 'Att.3', 'Cmp%.3', 'xA', 'KP', '1/3', 'PPA',\n",
      "       'CrsPA'],\n",
      "      dtype='object')\n",
      "Index(['Date', 'Day', 'Round', 'Venue', 'Result', 'Squad', 'Opponent', 'Start',\n",
      "       'Pos', 'Min', 'Gls', 'Ast', 'PK', 'PKatt', 'Sh', 'SoT', 'CrdY', 'CrdR',\n",
      "       'Touches', 'Tkl', 'Int', 'Blocks', 'xG', 'npxG', 'xAG', 'SCA', 'GCA',\n",
      "       'Cmp', 'Att', 'Cmp%', 'PrgP', 'Carries', 'PrgC', 'Att.1', 'Succ'],\n",
      "      dtype='object')\n"
     ]
    }
   ],
   "source": [
    "print(gca_merge.columns)\n",
    "print(passing_merge.columns)\n",
    "print(summary_merge.columns)"
   ]
  },
  {
   "cell_type": "code",
   "execution_count": 56,
   "metadata": {},
   "outputs": [],
   "source": [
    "merge1 = summary_merge.merge(gca_merge, on = 'Round')\n",
    "merge2 = merge1.merge(passing_merge, on= 'Round')"
   ]
  },
  {
   "cell_type": "code",
   "execution_count": 57,
   "metadata": {},
   "outputs": [
    {
     "data": {
      "text/plain": [
       "Index(['Date', 'Day', 'Round', 'Venue', 'Result', 'Squad', 'Opponent', 'Start',\n",
       "       'Pos', 'Min', 'Gls', 'Ast', 'PK', 'PKatt', 'Sh', 'SoT', 'CrdY', 'CrdR',\n",
       "       'Touches', 'Tkl', 'Int', 'Blocks', 'xG', 'npxG', 'xAG', 'SCA', 'GCA',\n",
       "       'Cmp', 'Att', 'Cmp%', 'PrgP', 'Carries', 'PrgC', 'Att.1', 'Succ',\n",
       "       'PassLive', 'PassDead', 'TO', 'Fld', 'Def', 'PassLive.1', 'PassDead.1',\n",
       "       'TO.1', 'Sh.1', 'Fld.1', 'Def.1', 'TotDist', 'PrgDist', 'Cmp.1',\n",
       "       'Cmp%.1', 'Cmp.2', 'Att.2', 'Cmp%.2', 'Cmp.3', 'Att.3', 'Cmp%.3', 'xA',\n",
       "       'KP', '1/3', 'PPA', 'CrsPA'],\n",
       "      dtype='object')"
      ]
     },
     "execution_count": 57,
     "metadata": {},
     "output_type": "execute_result"
    }
   ],
   "source": [
    "merge2.columns"
   ]
  }
 ],
 "metadata": {
  "kernelspec": {
   "display_name": "base",
   "language": "python",
   "name": "python3"
  },
  "language_info": {
   "codemirror_mode": {
    "name": "ipython",
    "version": 3
   },
   "file_extension": ".py",
   "mimetype": "text/x-python",
   "name": "python",
   "nbconvert_exporter": "python",
   "pygments_lexer": "ipython3",
   "version": "3.11.4"
  }
 },
 "nbformat": 4,
 "nbformat_minor": 2
}
